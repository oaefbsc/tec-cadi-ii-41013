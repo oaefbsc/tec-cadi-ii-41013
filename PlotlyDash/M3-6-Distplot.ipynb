{
 "cells": [
  {
   "cell_type": "markdown",
   "metadata": {},
   "source": [
    "# Distplots\n",
    "\n",
    "Una gráfica distribuidas o **Distplots** muestra tres capas de gráficas, una encima de otra. La primera gráfica es un **histogram**, donde cada punto está situado dentro de un bin con valores similares. La segunda es un marcador a lo largo del eje-x para cada punto de los datos el cual permite ver la distribución de cada valor dentro de cada bin, conocido como **rug plot**. Finalmente, se muestra una linea 'KDE' o **kernel density stimate** que intenta describir la forma de la distribución de los datos.\n",
    "\n",
    "Plotly permite mostrar varias 'Distplots' en un mismo lienzo. Esencialmente se muestran valores continuos basados en varias categorías diferentes."
   ]
  },
  {
   "cell_type": "code",
   "execution_count": 4,
   "metadata": {},
   "outputs": [],
   "source": [
    "import pandas as pd\n",
    "import numpy as np\n",
    "import plotly.offline as pyo\n",
    "import plotly.figure_factory as ff"
   ]
  },
  {
   "cell_type": "code",
   "execution_count": 5,
   "metadata": {},
   "outputs": [],
   "source": [
    "x = np.random.randn(1000)"
   ]
  },
  {
   "cell_type": "code",
   "execution_count": 6,
   "metadata": {},
   "outputs": [
    {
     "data": {
      "text/plain": [
       "'file:///home/oscar/Documentos/udemy/plotly-dash-joseport/misnotebooks/temp-plot.html'"
      ]
     },
     "execution_count": 6,
     "metadata": {},
     "output_type": "execute_result"
    }
   ],
   "source": [
    "hist_data = [x] # histogram data\n",
    "group_labels = ['distplot'] # labels for x-axis\n",
    "\n",
    "fig = ff.create_distplot(hist_data, group_labels)\n",
    "pyo.plot(fig)"
   ]
  },
  {
   "cell_type": "markdown",
   "metadata": {},
   "source": [
    "Ahora vamos a crear varias *Distplots* en un mismlo lienzo."
   ]
  },
  {
   "cell_type": "code",
   "execution_count": 13,
   "metadata": {},
   "outputs": [
    {
     "data": {
      "text/plain": [
       "'file:///home/oscar/Documentos/udemy/plotly-dash-joseport/misnotebooks/temp-plot.html'"
      ]
     },
     "execution_count": 13,
     "metadata": {},
     "output_type": "execute_result"
    }
   ],
   "source": [
    "x1 = np.random.randn(200)-2\n",
    "x2 = np.random.randn(200)\n",
    "x3 = np.random.randn(200)+2\n",
    "x4 = np.random.randn(200)+4\n",
    "\n",
    "hist_data = [x1, x2, x3, x4]\n",
    "group_labels = ['X1', 'X2', 'X3', 'X4']\n",
    "\n",
    "\n",
    "fig = ff.create_distplot(hist_data,\n",
    "                         group_labels,\n",
    "                         bin_size = [0.5, 0.4, 0.6, 0.7] )\n",
    "pyo.plot(fig)"
   ]
  },
  {
   "cell_type": "markdown",
   "metadata": {},
   "source": [
    "Retomemos el problema de Mark Twain..."
   ]
  },
  {
   "cell_type": "code",
   "execution_count": 14,
   "metadata": {},
   "outputs": [],
   "source": [
    "# frecuencias relativas de palabras de tres letras en las cartas de snodgrass\n",
    "snodgrass = [0.209, 0.205, 0.196, 0.210, 0.202, 0.207, 0.224, 0.223, 0.220, 0.201]\n",
    "\n",
    "# frecuencias relativas de palabras de tres letras en los trabajos de Twain\n",
    "twain = [0.225, 0.262, 0.217, 0.240, 0.230, 0.229, 0.235, 0.217]"
   ]
  },
  {
   "cell_type": "code",
   "execution_count": 19,
   "metadata": {},
   "outputs": [
    {
     "data": {
      "text/plain": [
       "'file:///home/oscar/Documentos/udemy/plotly-dash-joseport/misnotebooks/temp-plot.html'"
      ]
     },
     "execution_count": 19,
     "metadata": {},
     "output_type": "execute_result"
    }
   ],
   "source": [
    "hist_data =[snodgrass, twain]\n",
    "group_labels = ['Snodgrass writings', 'Mark Twain writings']\n",
    "\n",
    "fig = ff.create_distplot(hist_data,\n",
    "                         group_labels,\n",
    "                         bin_size = [0.01, 0.008] )\n",
    "pyo.plot(fig)"
   ]
  },
  {
   "cell_type": "markdown",
   "metadata": {},
   "source": [
    "## Ejercicio\n",
    "Elaborar una Dististribution Plot usando el dataset iris, que compare la longitud de los petalos de cada clase.\n",
    "El archivo es: `../Data/iris.cvs` contiene los campos: 'sepal_length, 'sepal_width', 'petal_length', 'petal_width'; y las clases: 'Iris-setosa', 'Iris-versicolor', 'Iris-virginica'."
   ]
  },
  {
   "cell_type": "code",
   "execution_count": 20,
   "metadata": {},
   "outputs": [],
   "source": [
    "# Perform imports here:\n",
    "import pandas as pd\n",
    "import plotly.offline as pyo\n",
    "import plotly.figure_factory as ff"
   ]
  },
  {
   "cell_type": "code",
   "execution_count": 25,
   "metadata": {},
   "outputs": [],
   "source": [
    "# Create a DataFrame from the .csv file:\n",
    "mainpath = \"/home/oscar/Documentos/udemy/plotly-dash-joseport/Plotly-Dashboards-with-Dash-master/\"\n",
    "filename = \"Data/iris.csv\"\n",
    "fullpath = mainpath + filename\n",
    "df = pd.read_csv(fullpath)"
   ]
  },
  {
   "cell_type": "code",
   "execution_count": 29,
   "metadata": {},
   "outputs": [
    {
     "data": {
      "text/html": [
       "<div>\n",
       "<style scoped>\n",
       "    .dataframe tbody tr th:only-of-type {\n",
       "        vertical-align: middle;\n",
       "    }\n",
       "\n",
       "    .dataframe tbody tr th {\n",
       "        vertical-align: top;\n",
       "    }\n",
       "\n",
       "    .dataframe thead th {\n",
       "        text-align: right;\n",
       "    }\n",
       "</style>\n",
       "<table border=\"1\" class=\"dataframe\">\n",
       "  <thead>\n",
       "    <tr style=\"text-align: right;\">\n",
       "      <th></th>\n",
       "      <th>sepal_length</th>\n",
       "      <th>sepal_width</th>\n",
       "      <th>petal_length</th>\n",
       "      <th>petal_width</th>\n",
       "      <th>class</th>\n",
       "    </tr>\n",
       "  </thead>\n",
       "  <tbody>\n",
       "    <tr>\n",
       "      <th>0</th>\n",
       "      <td>5.1</td>\n",
       "      <td>3.5</td>\n",
       "      <td>1.4</td>\n",
       "      <td>0.2</td>\n",
       "      <td>Iris-setosa</td>\n",
       "    </tr>\n",
       "    <tr>\n",
       "      <th>1</th>\n",
       "      <td>4.9</td>\n",
       "      <td>3.0</td>\n",
       "      <td>1.4</td>\n",
       "      <td>0.2</td>\n",
       "      <td>Iris-setosa</td>\n",
       "    </tr>\n",
       "    <tr>\n",
       "      <th>2</th>\n",
       "      <td>4.7</td>\n",
       "      <td>3.2</td>\n",
       "      <td>1.3</td>\n",
       "      <td>0.2</td>\n",
       "      <td>Iris-setosa</td>\n",
       "    </tr>\n",
       "    <tr>\n",
       "      <th>3</th>\n",
       "      <td>4.6</td>\n",
       "      <td>3.1</td>\n",
       "      <td>1.5</td>\n",
       "      <td>0.2</td>\n",
       "      <td>Iris-setosa</td>\n",
       "    </tr>\n",
       "    <tr>\n",
       "      <th>4</th>\n",
       "      <td>5.0</td>\n",
       "      <td>3.6</td>\n",
       "      <td>1.4</td>\n",
       "      <td>0.2</td>\n",
       "      <td>Iris-setosa</td>\n",
       "    </tr>\n",
       "  </tbody>\n",
       "</table>\n",
       "</div>"
      ],
      "text/plain": [
       "   sepal_length  sepal_width  petal_length  petal_width        class\n",
       "0           5.1          3.5           1.4          0.2  Iris-setosa\n",
       "1           4.9          3.0           1.4          0.2  Iris-setosa\n",
       "2           4.7          3.2           1.3          0.2  Iris-setosa\n",
       "3           4.6          3.1           1.5          0.2  Iris-setosa\n",
       "4           5.0          3.6           1.4          0.2  Iris-setosa"
      ]
     },
     "execution_count": 29,
     "metadata": {},
     "output_type": "execute_result"
    }
   ],
   "source": [
    "df.head()"
   ]
  },
  {
   "cell_type": "code",
   "execution_count": 30,
   "metadata": {},
   "outputs": [],
   "source": [
    "# Define the traces\n",
    "\n",
    "# HINT: This grabs the petal_length column for a particular flower\n",
    "# df[df['class'] == 'Iris-some-flower-class'][petal_length]\n",
    "\n",
    "trace1 = df[df['class'] == 'Iris-setosa']['petal_length']\n",
    "trace2 = df[df['class'] == 'Iris-versicolor']['petal_length']\n",
    "trace3 = df[df['class'] == 'Iris-virginica']['petal_length']\n"
   ]
  },
  {
   "cell_type": "code",
   "execution_count": 32,
   "metadata": {},
   "outputs": [],
   "source": [
    "# Define a data variable\n",
    "hist_data = [trace1, trace2, trace3]\n",
    "group_labels = ['Iris-setosa', 'Iris-versicolor', 'Iris-virginica']\n",
    "\n",
    "fig = ff.create_distplot(hist_data, group_labels)"
   ]
  },
  {
   "cell_type": "code",
   "execution_count": 33,
   "metadata": {},
   "outputs": [
    {
     "data": {
      "text/plain": [
       "'file:///home/oscar/Documentos/udemy/plotly-dash-joseport/misnotebooks/temp-plot.html'"
      ]
     },
     "execution_count": 33,
     "metadata": {},
     "output_type": "execute_result"
    }
   ],
   "source": [
    "# Create a fig from data and Layout, and plot the figure\n",
    "pyo.plot(fig)"
   ]
  },
  {
   "cell_type": "code",
   "execution_count": null,
   "metadata": {},
   "outputs": [],
   "source": []
  }
 ],
 "metadata": {
  "kernelspec": {
   "display_name": "Python 3",
   "language": "python",
   "name": "python3"
  },
  "language_info": {
   "codemirror_mode": {
    "name": "ipython",
    "version": 3
   },
   "file_extension": ".py",
   "mimetype": "text/x-python",
   "name": "python",
   "nbconvert_exporter": "python",
   "pygments_lexer": "ipython3",
   "version": "3.6.5"
  }
 },
 "nbformat": 4,
 "nbformat_minor": 2
}
