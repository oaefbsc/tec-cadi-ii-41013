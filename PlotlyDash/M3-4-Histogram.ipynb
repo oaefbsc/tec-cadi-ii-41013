{
 "cells": [
  {
   "cell_type": "markdown",
   "metadata": {},
   "source": [
    "# Histograms\n",
    "\n",
    "Un histograma despliega un representación precisa sobre la distribución que siguen cierta característica continua. Para crear un histograma, es necesario:\n",
    "* dividir el rango de valores continuos en una serie de intervalos.\n",
    "* esta serie de intervalos se les conoce como recipiente, caja o *bin* \n",
    "* contar el número de ocurrencias por bin (para todo el rango de valores)\n",
    "\n",
    "Es posible cambian el tamaño del *bin* para tener mayor o menor detalle. A mayor tamaño del *bin* decrece el número de *bins* y viceversa."
   ]
  },
  {
   "cell_type": "code",
   "execution_count": 2,
   "metadata": {},
   "outputs": [],
   "source": [
    "import pandas as pd\n",
    "import plotly.offline as pyo\n",
    "import plotly.graph_objs as go"
   ]
  },
  {
   "cell_type": "code",
   "execution_count": 3,
   "metadata": {},
   "outputs": [],
   "source": [
    "mainpath = \"/home/oscar/Documentos/udemy/plotly-dash-joseport/Plotly-Dashboards-with-Dash-master/\"\n",
    "filename = \"Data/mpg.csv\"\n",
    "fullpath = mainpath + filename\n",
    "\n",
    "df = pd.read_csv(fullpath)"
   ]
  },
  {
   "cell_type": "code",
   "execution_count": 14,
   "metadata": {},
   "outputs": [
    {
     "data": {
      "text/plain": [
       "'file:///home/oscar/Documentos/udemy/plotly-dash-joseport/misnotebooks/temp-plot.html'"
      ]
     },
     "execution_count": 14,
     "metadata": {},
     "output_type": "execute_result"
    }
   ],
   "source": [
    "data = [ go.Histogram(x = df['mpg'], \n",
    "                      xbins = dict(start = 0, end = 50, size = 4),\n",
    "                      marker = dict(color = '#762f3c')\n",
    "                     )]\n",
    "layout = go.Layout(title = 'Histogram')\n",
    "\n",
    "fig = go.Figure(data, layout)\n",
    "pyo.plot(fig)"
   ]
  },
  {
   "cell_type": "markdown",
   "metadata": {},
   "source": [
    "## Ejercicio\n",
    "**Objetivo:** Se desea crear un histogrma que grafique el campo `Lenght` del dataset `../Data/abaolne.csv`.\n",
    "Establecer el rango de 0 a 1, con un tamaño de bin de 0.02."
   ]
  },
  {
   "cell_type": "code",
   "execution_count": 16,
   "metadata": {},
   "outputs": [],
   "source": [
    "# performs imports here:\n",
    "\n",
    "import pandas as pd\n",
    "import plotly.offline as pyo\n",
    "import plotly.graph_objs as go"
   ]
  },
  {
   "cell_type": "code",
   "execution_count": 17,
   "metadata": {},
   "outputs": [],
   "source": [
    "# create a DataFrame from the .csv file:\n",
    "\n",
    "mainpath = \"/home/oscar/Documentos/udemy/plotly-dash-joseport/Plotly-Dashboards-with-Dash-master/\"\n",
    "filename = \"Data/abalone.csv\"\n",
    "fullpath = mainpath + filename\n",
    "\n",
    "df = pd.read_csv(fullpath)"
   ]
  },
  {
   "cell_type": "code",
   "execution_count": 19,
   "metadata": {},
   "outputs": [
    {
     "data": {
      "text/plain": [
       "'file:///home/oscar/Documentos/udemy/plotly-dash-joseport/misnotebooks/temp-plot.html'"
      ]
     },
     "execution_count": 19,
     "metadata": {},
     "output_type": "execute_result"
    }
   ],
   "source": [
    "# create data variable\n",
    "\n",
    "data = [go.Histogram(x = df['length'],\n",
    "                     xbins = dict(start = 0, end = 1, size = 0.02))]\n",
    "\n",
    "# create a layout\n",
    "\n",
    "layout = go.Layout(title = \"My Histogram\")\n",
    "\n",
    "# create a fig from data & layout, and plot the fig.\n",
    "\n",
    "fig = go.Figure(data, layout)\n",
    "pyo.plot(fig)"
   ]
  },
  {
   "cell_type": "code",
   "execution_count": null,
   "metadata": {},
   "outputs": [],
   "source": []
  }
 ],
 "metadata": {
  "kernelspec": {
   "display_name": "Python 3",
   "language": "python",
   "name": "python3"
  },
  "language_info": {
   "codemirror_mode": {
    "name": "ipython",
    "version": 3
   },
   "file_extension": ".py",
   "mimetype": "text/x-python",
   "name": "python",
   "nbconvert_exporter": "python",
   "pygments_lexer": "ipython3",
   "version": "3.6.5"
  }
 },
 "nbformat": 4,
 "nbformat_minor": 2
}
