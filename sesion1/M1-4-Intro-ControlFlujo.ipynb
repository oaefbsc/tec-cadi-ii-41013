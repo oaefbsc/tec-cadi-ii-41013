{
 "cells": [
  {
   "cell_type": "markdown",
   "metadata": {},
   "source": [
    "# Introducción a Python"
   ]
  },
  {
   "cell_type": "markdown",
   "metadata": {},
   "source": [
    "## Control de Flujo"
   ]
  },
  {
   "cell_type": "markdown",
   "metadata": {},
   "source": [
    "Una estructura o sentencia de control, es un bloque de código que permite ejecutar instrucciones de manera controlada. En la mayoría de lenguajes se manejan dos estructuras de control:\n",
    "\n",
    "* Estructuras de control condicionales\n",
    "* Estructuras de control iterativas\n"
   ]
  },
  {
   "cell_type": "markdown",
   "metadata": {},
   "source": [
    "### IF-ELSE"
   ]
  },
  {
   "cell_type": "markdown",
   "metadata": {},
   "source": [
    "`if-else` es una estructura de control condicional que tiene la siguiente sintáxis en Python:"
   ]
  },
  {
   "cell_type": "markdown",
   "metadata": {},
   "source": [
    "```python\n",
    "if expression:\n",
    "    statement\n",
    "elif expression:  // 0 o more elif clauses\n",
    "    statement\n",
    "else:\n",
    "    statemet\n",
    "```"
   ]
  },
  {
   "cell_type": "code",
   "execution_count": null,
   "metadata": {},
   "outputs": [],
   "source": [
    "a = 8"
   ]
  },
  {
   "cell_type": "code",
   "execution_count": null,
   "metadata": {},
   "outputs": [],
   "source": [
    "# clasic example"
   ]
  },
  {
   "cell_type": "code",
   "execution_count": null,
   "metadata": {},
   "outputs": [],
   "source": []
  },
  {
   "cell_type": "code",
   "execution_count": null,
   "metadata": {},
   "outputs": [],
   "source": [
    "# clasic example\n"
   ]
  },
  {
   "cell_type": "code",
   "execution_count": null,
   "metadata": {},
   "outputs": [],
   "source": [
    "# vuelos reporte_estado\n",
    "def reporte_estado(tiempo_planeado, tiempo_estimado):\n",
    "    '''(numero, numero) -> str\n",
    "    \n",
    "    Devuelve el estado del vuelo: 'on time', 'early',\n",
    "    'delayed' para un vuelo con horario de llegada como\n",
    "    tiempo_planeado, y tiempo de llegada estimada actual\n",
    "    como tiempo_estimado.\n",
    "    \n",
    "    Pre-conditions:\n",
    "    0.0 <= tiempo_planeado < 24 y\n",
    "    0.0 <= tiempo_estimado < 24\n",
    "    \n",
    "    >>> reporte_estado(14.3, 14.3)\n",
    "    'on time'\n",
    "    >>> reporte_estado(12.5, 11.5)\n",
    "    'on time'\n",
    "    >>> reporte_estado(9.0, 9.5)\n",
    "    'on time'\n",
    "    \n",
    "    '''\n",
    "       \n",
    "   "
   ]
  },
  {
   "cell_type": "code",
   "execution_count": null,
   "metadata": {},
   "outputs": [],
   "source": []
  },
  {
   "cell_type": "code",
   "execution_count": null,
   "metadata": {},
   "outputs": [],
   "source": []
  },
  {
   "cell_type": "code",
   "execution_count": null,
   "metadata": {},
   "outputs": [],
   "source": []
  },
  {
   "cell_type": "markdown",
   "metadata": {},
   "source": [
    "Ciertas soluciones a problemas que implican evaluar expresiones booleanas evitan el uso de `if-else`.\n"
   ]
  },
  {
   "cell_type": "code",
   "execution_count": null,
   "metadata": {},
   "outputs": [],
   "source": [
    "# evaluar par\n",
    "num = 10"
   ]
  },
  {
   "cell_type": "code",
   "execution_count": null,
   "metadata": {},
   "outputs": [],
   "source": [
    "if num % 2 == 0:\n",
    "    print(True)\n",
    "else:\n",
    "    print(False)"
   ]
  },
  {
   "cell_type": "code",
   "execution_count": null,
   "metadata": {},
   "outputs": [],
   "source": [
    "def es_par(num):\n",
    "    '''(int) -> bool\n",
    "    \n",
    "    Devuelve si num es par.\n",
    "    \n",
    "    >>> es_par(4)\n",
    "    True\n",
    "    >>> es_par(77)\n",
    "    False\n",
    "    '''\n",
    "    \n",
    "    return num % 2 == 0"
   ]
  },
  {
   "cell_type": "code",
   "execution_count": null,
   "metadata": {},
   "outputs": [],
   "source": [
    "es_par(10)"
   ]
  },
  {
   "cell_type": "markdown",
   "metadata": {},
   "source": [
    "## Ciclo While"
   ]
  },
  {
   "cell_type": "markdown",
   "metadata": {},
   "source": [
    "La sentencia `while` repite un conjunto de instrucciones mientras que cierta condición sea verdadera.\n",
    "while tiene la sintaxis siguiente:\n",
    "\n",
    "```python\n",
    "while expression:\n",
    "    statements\n",
    "```\n",
    "\n",
    "`while` es una sentencia de control repetitiva"
   ]
  },
  {
   "cell_type": "code",
   "execution_count": null,
   "metadata": {},
   "outputs": [],
   "source": [
    "# while num 2\n"
   ]
  },
  {
   "cell_type": "code",
   "execution_count": null,
   "metadata": {},
   "outputs": [],
   "source": [
    "# while num 10\n"
   ]
  },
  {
   "cell_type": "code",
   "execution_count": null,
   "metadata": {},
   "outputs": [],
   "source": [
    "s = 'Hola'\n",
    "i = 0\n",
    "while not(s[i] in 'aeiouAEIOU'):\n",
    "    print(s[i])\n",
    "    i = i + 1"
   ]
  },
  {
   "cell_type": "code",
   "execution_count": null,
   "metadata": {},
   "outputs": [],
   "source": [
    "# out of index\n"
   ]
  },
  {
   "cell_type": "markdown",
   "metadata": {},
   "source": [
    "Si se hace referencia a un indice fuera del tamaño de la cadena python envía un error `IndexError`."
   ]
  },
  {
   "cell_type": "code",
   "execution_count": null,
   "metadata": {},
   "outputs": [],
   "source": []
  },
  {
   "cell_type": "markdown",
   "metadata": {},
   "source": [
    "## Ciclo For"
   ]
  },
  {
   "cell_type": "markdown",
   "metadata": {},
   "source": [
    "La sentencia `for` repite un conjunto de instrucciones o sentencias tantas veces como itere sobre los elementos de un conjunto.\n",
    "\n",
    "Un ciclo `for` puede iterar sobre una caden:\n",
    "\n",
    "``` python\n",
    "for variable in cadena:\n",
    "    body\n",
    "```"
   ]
  },
  {
   "cell_type": "code",
   "execution_count": null,
   "metadata": {},
   "outputs": [],
   "source": [
    "cadena = \"Python programming\""
   ]
  },
  {
   "cell_type": "code",
   "execution_count": null,
   "metadata": {},
   "outputs": [],
   "source": []
  },
  {
   "cell_type": "code",
   "execution_count": null,
   "metadata": {},
   "outputs": [],
   "source": [
    "def count_vowels(s):\n",
    "    ''' (str) -> int\n",
    "    \n",
    "    Regresa el número de vocales en s.\n",
    "    \n",
    "    >>> count_vowels('Happy Anniversary!')\n",
    "    5\n",
    "    >>> count_vowels('xyz')\n",
    "    0\n",
    "    '''\n",
    "    \n",
    "    num_vowels = 0\n",
    "    \n",
    "    return num_vowels"
   ]
  },
  {
   "cell_type": "code",
   "execution_count": null,
   "metadata": {},
   "outputs": [],
   "source": [
    "count_vowels('Happy Anniversary!')"
   ]
  },
  {
   "cell_type": "code",
   "execution_count": null,
   "metadata": {},
   "outputs": [],
   "source": [
    "count_vowels('xyz')"
   ]
  },
  {
   "cell_type": "code",
   "execution_count": null,
   "metadata": {},
   "outputs": [],
   "source": [
    "def colect_vowels(s):\n",
    "    ''' (str) -> int\n",
    "    \n",
    "    Regresa lsd vocales en s.\n",
    "    \n",
    "    >>> count_vowels('Happy Anniversary!')\n",
    "    aAiea\n",
    "    >>> count_vowels('xyz')\n",
    "    ''\n",
    "    \n",
    "    '''\n",
    "    \n",
    "    num_vowels = 0\n",
    "   \n",
    "            \n",
    "    \n",
    "    return vowels"
   ]
  },
  {
   "cell_type": "code",
   "execution_count": null,
   "metadata": {},
   "outputs": [],
   "source": [
    "colect_vowels('Happy Anniversary!')"
   ]
  },
  {
   "cell_type": "code",
   "execution_count": null,
   "metadata": {},
   "outputs": [],
   "source": [
    "colect_vowels('xyz')"
   ]
  },
  {
   "cell_type": "code",
   "execution_count": null,
   "metadata": {},
   "outputs": [],
   "source": [
    "colores = ['rojo', 'azul', 'amarillo', 'negro', 'verde']"
   ]
  },
  {
   "cell_type": "code",
   "execution_count": null,
   "metadata": {},
   "outputs": [],
   "source": [
    "for color in colores:\n",
    "    print (color)"
   ]
  }
 ],
 "metadata": {
  "kernelspec": {
   "display_name": "Python 3",
   "language": "python",
   "name": "python3"
  },
  "language_info": {
   "codemirror_mode": {
    "name": "ipython",
    "version": 3
   },
   "file_extension": ".py",
   "mimetype": "text/x-python",
   "name": "python",
   "nbconvert_exporter": "python",
   "pygments_lexer": "ipython3",
   "version": "3.6.5"
  }
 },
 "nbformat": 4,
 "nbformat_minor": 2
}
